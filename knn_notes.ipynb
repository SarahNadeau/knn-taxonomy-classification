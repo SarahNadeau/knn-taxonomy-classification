{
 "cells": [
  {
   "cell_type": "markdown",
   "metadata": {},
   "source": [
    "the HiSeq metagenome, consisting of HiSeq reads (mean length μ = 92 bp) in equal proportion from ten bacterial sequencing projects [Kraken paper]\n",
    "\n",
    "We also created a variant Kraken database that con- tains GenBank’s draft and completed genomes for bacteria and archaea, which we call Kraken-GB. The regular version of Kraken only includes RefSeq complete genomes, of which there are 2,256, while Kraken-GB contains 8,517 genomes. Our hypothesis was that Kraken-GB would have a higher sensitivity than standard Kraken for our metagenomes, by virtue of its larger database. Kraken-GB has a much higher sensitivity for the HiSeq and MiSeq metagenomes compared to Kraken (Figure 3 and Table 1), primarily due to the presence of two genomes in these simulated metagenomic samples that have close relatives only in Kraken-GB’s database (Materials and methods). [Kraken paper]"
   ]
  },
  {
   "cell_type": "markdown",
   "metadata": {},
   "source": [
    "Classifying among HiSeq sequences with: <br /> \n",
    "max k = 150 <br /> \n",
    "2:1 train:test split <br /> \n",
    "baseline = .1 (from HiSeq sequence set design by Kraken authors)\n",
    "\n",
    "    KNN score: 0.239091\n",
    "    with n = 1\n",
    "    with n_neighbors = 1\n",
    "    \n",
    "    KNN score: 0.227879\n",
    "    with n = 1\n",
    "    with n_neighbors = 2\n",
    "    \n",
    "    KNN score: 0.334242\n",
    "    with n = 2\n",
    "    with n_neighbors = 1\n",
    "    \n",
    "    KNN score: 0.310000\n",
    "    with n = 2\n",
    "    with n_neighbors = 2\n",
    "    \n",
    "    KNN score: 0.333030\n",
    "    with n = 3\n",
    "    with n_neighbors = 1\n",
    "    \n",
    "    \n",
    "    "
   ]
  },
  {
   "cell_type": "markdown",
   "metadata": {},
   "source": [
    "A more accurate test would be performance when trained on database entries then tested with reads\n",
    "\n",
    "See https://www.nature.com/articles/srep19233 for metagenomics classification tool benchmark "
   ]
  }
 ],
 "metadata": {
  "kernelspec": {
   "display_name": "Python 3",
   "language": "python",
   "name": "python3"
  },
  "language_info": {
   "codemirror_mode": {
    "name": "ipython",
    "version": 3
   },
   "file_extension": ".py",
   "mimetype": "text/x-python",
   "name": "python",
   "nbconvert_exporter": "python",
   "pygments_lexer": "ipython3",
   "version": "3.6.1"
  }
 },
 "nbformat": 4,
 "nbformat_minor": 2
}
